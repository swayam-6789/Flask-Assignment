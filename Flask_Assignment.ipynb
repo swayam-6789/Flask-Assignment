{
 "cells": [
  {
   "cell_type": "raw",
   "id": "27e4bba7-3609-4d8e-bf8b-dd4490b8b889",
   "metadata": {},
   "source": [
    "Question-1"
   ]
  },
  {
   "cell_type": "raw",
   "id": "421da22f-ddb2-4163-b0ff-e9b40c06d5cc",
   "metadata": {},
   "source": [
    "Flask is a microframework for Python . It's designed to be simple, flexible, and extensible. Flask is used for a wide variety of projects, from simple websites to complex web applications.\n",
    "\n",
    "Advantages:\n",
    "-Lightweight and easy to learn: Flask is a lightweight framework, which means that it's relatively small and easy to learn. This makes it a good choice for beginners who are new to web development.\n",
    "\n",
    "-Flexible and extensible: Flask is a very flexible framework, which means that it can be used to create a wide variety of web applications. It's also extensible, which means that you can add new features and functionality to Flask as needed.\n",
    "\n",
    "-Well-documented and supported: Flask is well-documented and has a large community of users and developers who are willing to help. This makes it easy to find help if you get stuck while developing a Flask application.\n"
   ]
  },
  {
   "cell_type": "raw",
   "id": "ba47e6af-7e29-4755-accc-a93b2c6cbc94",
   "metadata": {},
   "source": [
    "Question-2"
   ]
  },
  {
   "cell_type": "raw",
   "id": "7051d2ad-adb8-409f-9e59-f32aa0b85899",
   "metadata": {},
   "source": [
    "@app.route(\"/print\")\n",
    "def print():\n",
    "    return \"Hello World!!\""
   ]
  },
  {
   "cell_type": "raw",
   "id": "c9243b35-6bb6-4e41-a63e-7b23a06a8ed8",
   "metadata": {},
   "source": [
    "Question-3"
   ]
  },
  {
   "cell_type": "raw",
   "id": "5b96f9dd-27cf-4ae0-823c-c5b131d9c93c",
   "metadata": {},
   "source": [
    "App routing in Flask is the process of mapping URLs to specific functions in your application. This allows you to create a more user-friendly experience for your users, as they can access different parts of your application by simply entering a specific URL in their browser.\n",
    "\n",
    "Improved user experience: App routes make it easier for users to navigate your application. They can simply enter a specific URL in their browser to access different parts of your application.\n",
    "\n",
    "Better SEO: App routes allow you to specify the keywords that you want your application to be indexed for. This can help to improve your application's ranking in search results.\n",
    "\n",
    "More flexibility: App routes give you more flexibility in how you structure your application."
   ]
  },
  {
   "cell_type": "raw",
   "id": "55f14fd2-9dd5-4d26-a47a-ff326c08a5bc",
   "metadata": {},
   "source": [
    "Question-4"
   ]
  },
  {
   "cell_type": "raw",
   "id": "8dd852b8-ad70-41b8-8ab3-915b460ae7fc",
   "metadata": {},
   "source": [
    "@app.route(\"/welcome\")\n",
    "def welcome():\n",
    "    return \"“Welcome to ABC Corporation”\"\n",
    "@app.route(\"/welcome2\")\n",
    "def welcome2():\n",
    "    return \"<h1>Company Name: ABC Corporation</h1>\\n<h1>Location: India</h1>\\n<h1>Contact Detail: 999-999-9999 </h1>\"\n",
    "          "
   ]
  },
  {
   "cell_type": "raw",
   "id": "ff02dec0-9577-4d5f-8781-63b696db30b1",
   "metadata": {},
   "source": [
    "Question-5"
   ]
  },
  {
   "cell_type": "raw",
   "id": "8e16160b-5726-458b-8868-acc0d5637115",
   "metadata": {},
   "source": [
    "The url_for() function is used in Flask for URL building. It takes two arguments: the first argument is the name of the function that you want to generate a URL for, and the second argument is a dictionary of keyword arguments that you want to pass to the function.\n",
    "\n",
    "code:\n",
    "from flask import Flask, url_for\n",
    "\n",
    "app = Flask(__name__)\n",
    "\n",
    "@app.route(\"/hello\")\n",
    "def hello():\n",
    "    return \"Hello, world!\"\n",
    "\n",
    "print(url_for(\"hello\"))"
   ]
  }
 ],
 "metadata": {
  "kernelspec": {
   "display_name": "Python 3 (ipykernel)",
   "language": "python",
   "name": "python3"
  },
  "language_info": {
   "codemirror_mode": {
    "name": "ipython",
    "version": 3
   },
   "file_extension": ".py",
   "mimetype": "text/x-python",
   "name": "python",
   "nbconvert_exporter": "python",
   "pygments_lexer": "ipython3",
   "version": "3.10.6"
  }
 },
 "nbformat": 4,
 "nbformat_minor": 5
}
